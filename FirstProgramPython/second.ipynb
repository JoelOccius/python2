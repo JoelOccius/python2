{
 "cells": [
  {
   "cell_type": "code",
   "execution_count": null,
   "metadata": {},
   "outputs": [
    {
     "name": "stdout",
     "output_type": "stream",
     "text": [
      "22\n"
     ]
    },
    {
     "name": "stdout",
     "output_type": "stream",
     "text": [
      "CPF anrejistre avèk siksè!\n",
      "CPF estandadize: 12345678909\n",
      "CPF anrejistre avèk siksè!\n"
     ]
    }
   ],
   "source": [
    "email = 'occiusjoel65@gmail.com'\n",
    "print(len(email))\n",
    "\n",
    "# Exercice1(Registration CPF)\n",
    "# Create a program to record the cpf of those  \n",
    "# who receive the cpf in an input box containing only numbers. \n",
    "# Ex: enter you cpf (enter numbers only) \n",
    "#  If the user enters anything other than numbers or enters less than  \n",
    "#  11 digits (Brazilian alphabet size CPF) the program should display \n",
    "#   a message 'enter your CPF correctly, enter only numbers.'\n",
    "def enregistrer_cpf():\n",
    "    while True:\n",
    "        cpf = input(\"Antre CPF ou (antre nimewo sèlman): \").strip()\n",
    "        \n",
    "        # Verifye si antre a gen sèlman nimewo epi li gen 11 chif\n",
    "        if cpf.isdigit() and len(cpf) == 11:\n",
    "            print(\"CPF anrejistre avèk siksè!\")\n",
    "            break\n",
    "        else:\n",
    "            print(\"Antre CPF ou kòrèkteman. Antre sèlman nimewo epi asire w ke li gen 11 chif.\")\n",
    "\n",
    "# Rele fonksyon an\n",
    "enregistrer_cpf()\n",
    "# <<Eksplikasyon\n",
    "# while True: - Yon bouk kontinuèl pou asire pwogram nan kontinye \n",
    "# mande itilizatè a antre done ki valab.\n",
    "# cpf.isdigit() - Tcheke si antre itilizatè a gen sèlman nimewo.\n",
    "# len(cpf) == 11 - Tcheke si antre a gen egzakteman 11 chif.\n",
    "# strip() - Retire espas vid nan kòmansman oswa fen antre itilizatè a.\n",
    "# Si antre a pa satisfè kondisyon yo, yon mesaj erè montre epi li\n",
    "# mande antre a ankò.\n",
    "# Ou vle ajoute plis fonksyonalite, tankou verifye validite yon CPF \n",
    "# (ki baze sou algoritm Brezilyen an)?>>\n",
    "\n",
    "# 'Note byen:Pwof eske ou ale pi lwen? Paske mwen nan \n",
    "# fason ou nan not anvan yo li pa respekte'\n",
    "\n",
    "\n",
    "\n",
    "# Exrecices2 (Improve your CPF Registration)\n",
    "# Now in addition to the previous validations, \n",
    "# we will create an entry that allows the user to insert periods,\n",
    "#  hyphens and even empty spaces. Our program must <<Process>>\n",
    "#  what the user to standardize his CPF in numbers only.\n",
    "# The control of the size of the CPF with 11 digits remains valid,\n",
    "#  but it must be done only after removing all the periods,\n",
    "#  hyphens and spaces from the CPF that the customer enters and \n",
    "# once the period hyphen space is removed only the numbers must\n",
    "#  remain in the CPF. Any other character must be considered invalid.\n",
    "# Finally your program must display a message to the user if he enters\n",
    "#  an invalid CPF or must simply print the correct CPF with just the number.\n",
    "import re\n",
    "\n",
    "def enregistrer_cpf_amelyore():\n",
    "    while True:\n",
    "        # Mande itilizatè a antre CPF yo\n",
    "        cpf = input(\"Antre CPF ou (li ka gen peryòd, tire, oswa espas): \").strip()\n",
    "        \n",
    "        # Retire tout karaktè ki pa nimewo lè l sèvi ak regilye ekspresyon\n",
    "        cpf_san_format = re.sub(r\"[^\\d]\", \"\", cpf)\n",
    "        \n",
    "        # Verifye si antre a gen sèlman nimewo epi li gen egzakteman 11 chif\n",
    "        if cpf_san_format.isdigit() and len(cpf_san_format) == 11:\n",
    "            print(f\"CPF estandadize: {cpf_san_format}\")\n",
    "            print(\"CPF anrejistre avèk siksè!\")\n",
    "            break\n",
    "        else:\n",
    "            print(\"Antre CPF ou kòrèkteman. Asire w ke CPF la gen sèlman nimewo e li gen egzakteman 11 chif.\")\n",
    "\n",
    "# Rele fonksyon an\n",
    "enregistrer_cpf_amelyore()\n",
    "\n",
    "# Eksplikasyon\n",
    "# re.sub(r\"[^\\d]\", \"\", cpf):\n",
    "\n",
    "# Sa retire tout karaktè ki pa nimewo, tankou espas, peryòd \n",
    "# (.), tire (-), oswa nenpòt lòt bagay.\n",
    "# Li itilize yon regilye ekspresyon ([^\\d]) ki matche ak tout bagay \n",
    "# ki pa yon chif (\\d) epi ranplase yo ak yon vid (\"\").\n",
    "# cpf_san_format.isdigit():\n",
    "\n",
    "# Tcheke ke kontni an kounye a gen sèlman nimewo.\n",
    "# len(cpf_san_format) == 11:\n",
    "\n",
    "# Asire ke CPF la gen egzakteman 11 chif apre tout karaktè ki pa nimewo yo retire.\n",
    "# Mesaj pou itilizatè a:\n",
    "\n",
    "# Si CPF la valab, li enprime vèsyon estandadize a.\n",
    "# Sinon, li mande itilizatè a antre yon CPF kòrèk.\n"
   ]
  }
 ],
 "metadata": {
  "kernelspec": {
   "display_name": "Python 3",
   "language": "python",
   "name": "python3"
  },
  "language_info": {
   "codemirror_mode": {
    "name": "ipython",
    "version": 3
   },
   "file_extension": ".py",
   "mimetype": "text/x-python",
   "name": "python",
   "nbconvert_exporter": "python",
   "pygments_lexer": "ipython3",
   "version": "3.12.6"
  }
 },
 "nbformat": 4,
 "nbformat_minor": 2
}
