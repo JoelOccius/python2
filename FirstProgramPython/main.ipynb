{
 "cells": [
  {
   "cell_type": "code",
   "execution_count": 2,
   "metadata": {},
   "outputs": [],
   "source": [
    "# print('Hello word I am JOEL')\n",
    "\n",
    "# Part 1 - Operations and Variables.\n",
    "# Create a program that prints the main indicators of the OLdrink store during the last year.\n",
    "# Note: do this using variables.\n",
    "# Sales quantity of coca cola 150\n",
    "# Sales quantity of pepsi = 130\n",
    "# Unit price of coca cola 1.50\n",
    "# Unit price of pepsi 1.50\n",
    "# Store cost: 2500.00\n",
    "# Use the block below to create all the variables you need.\n",
    "\n",
    "# 1-What was the store's revenue from pepsi?\n",
    "# 2-What was the store's revenue from coca cola?\n",
    "# 3-What was the store's profit?\n",
    "# 4-What was the store's margin? [Note <<Margin = profit / revenue>>] no need to format as a percentage.\n",
    "\n",
    "# Name_her = input(\"Enter your name\")\n",
    "\n",
    "# if  not \"o\" in Name_her:\n",
    "    # print(\"The people live in the appatment B 3\")\n",
    "\n",
    "# else:\n",
    "    # print(\"The people not live in the appatment  3\")\n",
    "\n",
    "\n",
    "name = 'JOELOCCIUS'\n",
    "print = (len(name))\n",
    "# name = 11\n",
    "# print(name)\n",
    "# print(4+4)\n",
    "\n",
    "\n",
    "  "
   ]
  }
 ],
 "metadata": {
  "kernelspec": {
   "display_name": "Python 3",
   "language": "python",
   "name": "python3"
  },
  "language_info": {
   "codemirror_mode": {
    "name": "ipython",
    "version": 3
   },
   "file_extension": ".py",
   "mimetype": "text/x-python",
   "name": "python",
   "nbconvert_exporter": "python",
   "pygments_lexer": "ipython3",
   "version": "3.12.6"
  }
 },
 "nbformat": 4,
 "nbformat_minor": 2
}
