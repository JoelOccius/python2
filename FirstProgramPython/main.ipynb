{
 "cells": [
  {
   "cell_type": "code",
   "execution_count": 1,
   "metadata": {},
   "outputs": [
    {
     "name": "stdout",
     "output_type": "stream",
     "text": [
      "Hello word I am JOEL\n"
     ]
    }
   ],
   "source": [
    "print('Hello word I am JOEL')\n",
    "\n",
    "###Part 1 - Operations and Variables.\n",
    "#Create a program that prints the main indicators of the OLdrink store during the last year.\n",
    "#Note: do this using variables.\n",
    "#Sales quantity of coca cola 150\n",
    "#Sales quantity of pepsi = 130\n",
    "#Unit price of coca cola 1.50\n",
    "#Unit price of pepsi 1.50\n",
    "#Store cost: 2500.00\n",
    "#Use the block below to create all the variables you need.\n",
    "\n",
    "#1-What was the store's revenue from pepsi?\n",
    "#2-What was the store's revenue from coca cola?\n",
    "#3-What was the store's profit?\n",
    "#4-What was the store's margin? [Note <<Margin = profit / revenue>>] no need to format as a percentage."
   ]
  }
 ],
 "metadata": {
  "kernelspec": {
   "display_name": "Python 3",
   "language": "python",
   "name": "python3"
  },
  "language_info": {
   "codemirror_mode": {
    "name": "ipython",
    "version": 3
   },
   "file_extension": ".py",
   "mimetype": "text/x-python",
   "name": "python",
   "nbconvert_exporter": "python",
   "pygments_lexer": "ipython3",
   "version": "3.12.6"
  }
 },
 "nbformat": 4,
 "nbformat_minor": 2
}
