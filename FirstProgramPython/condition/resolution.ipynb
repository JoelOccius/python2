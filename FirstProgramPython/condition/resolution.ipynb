{
 "cells": [
  {
   "cell_type": "code",
   "execution_count": 1,
   "metadata": {},
   "outputs": [
    {
     "name": "stdout",
     "output_type": "stream",
     "text": [
      "unfortunately we did not reach the goal, we sold 653 units. The goal was 50000 units.\n",
      "He 12 years old he cannot participate in the program \n",
      "0.0\n",
      "2800.0000000000005\n",
      "600.0\n"
     ]
    }
   ],
   "source": [
    "Objective = 50000\n",
    "quantitySold = 653\n",
    "\n",
    "if quantitySold > Objective:\n",
    "    print(f\"we have reached the iPhone sales target,the target is {quantitySold}\")\n",
    "\n",
    "else:\n",
    "    print(f\"unfortunately we did not reach the goal, we sold {quantitySold} units. The goal was {Objective} units.\")    \n",
    "Age = 12\n",
    "CanEnter = 18\n",
    "\n",
    "if Age >= CanEnter:\n",
    "    print(f\"You have {Age} years old can enter in the program\")\n",
    "else:\n",
    "    print(f\"He {Age} years old he cannot participate in the program \") \n",
    "\n",
    "    #\"For sales positions, the bonus rule is based on the person's sales target:\n",
    "#If she sells below the target, she does not receive a bonus.\n",
    "#If she sold more than twice the target, she earns a bonus of 7% of the amount sold.\n",
    "#If she came above the target, she earns 3% of the amount sold as a bonus.\n",
    "#Create a program that evaluates a person who has achieved the sales target of $20,000 and calculates her bonus based on the value of her sales.\" \n",
    "# \n",
    "sellsBelowTheTarget = 0\n",
    "soldMoreThanTwiceTheTarget = 7\n",
    "twiceTaget = 2\n",
    "TargetSold = 20000\n",
    "receiveAmountSold = 3\n",
    "percentage = 100\n",
    "\n",
    "#If she sells below the target, she does not receive a bonus.\n",
    "print (sellsBelowTheTarget / percentage * TargetSold )\n",
    "\n",
    "#If she sold more than twice the target, she earns a bonus of 7% of the amount sold.\n",
    "print(soldMoreThanTwiceTheTarget / percentage * TargetSold * twiceTaget)\n",
    "\n",
    "#If she came above the target, she earns 3% of the amount sold as a bonus.\n",
    "print(receiveAmountSold / percentage * TargetSold)"
   ]
  }
 ],
 "metadata": {
  "kernelspec": {
   "display_name": "Python 3",
   "language": "python",
   "name": "python3"
  },
  "language_info": {
   "codemirror_mode": {
    "name": "ipython",
    "version": 3
   },
   "file_extension": ".py",
   "mimetype": "text/x-python",
   "name": "python",
   "nbconvert_exporter": "python",
   "pygments_lexer": "ipython3",
   "version": "3.12.6"
  }
 },
 "nbformat": 4,
 "nbformat_minor": 2
}
